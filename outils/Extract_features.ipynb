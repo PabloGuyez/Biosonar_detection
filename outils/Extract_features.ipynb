{
 "cells": [
  {
   "cell_type": "markdown",
   "id": "aafa2785",
   "metadata": {},
   "source": [
    "# Extracting Benchmark audio features"
   ]
  },
  {
   "cell_type": "code",
   "execution_count": 1,
   "id": "4b5a6a96",
   "metadata": {
    "scrolled": true
   },
   "outputs": [
    {
     "name": "stdout",
     "output_type": "stream",
     "text": [
      "Collecting soundfile\n",
      "  Downloading soundfile-0.12.1-py2.py3-none-win_amd64.whl (1.0 MB)\n",
      "     ---------------------------------------- 1.0/1.0 MB 6.4 MB/s eta 0:00:00\n",
      "Requirement already satisfied: cffi>=1.0 in c:\\users\\zbook create g7\\anaconda3\\lib\\site-packages (from soundfile) (1.15.1)\n",
      "Requirement already satisfied: pycparser in c:\\users\\zbook create g7\\anaconda3\\lib\\site-packages (from cffi>=1.0->soundfile) (2.21)\n",
      "Installing collected packages: soundfile\n",
      "Successfully installed soundfile-0.12.1\n",
      "Requirement already satisfied: numpy in c:\\users\\zbook create g7\\anaconda3\\lib\\site-packages (1.23.5)\n",
      "Requirement already satisfied: scipy in c:\\users\\zbook create g7\\anaconda3\\lib\\site-packages (1.10.0)\n",
      "Requirement already satisfied: numpy<1.27.0,>=1.19.5 in c:\\users\\zbook create g7\\anaconda3\\lib\\site-packages (from scipy) (1.23.5)\n",
      "Collecting librosa\n",
      "  Downloading librosa-0.10.0.post2-py3-none-any.whl (253 kB)\n",
      "     -------------------------------------- 253.0/253.0 kB 3.9 MB/s eta 0:00:00\n",
      "Requirement already satisfied: joblib>=0.14 in c:\\users\\zbook create g7\\anaconda3\\lib\\site-packages (from librosa) (1.1.1)\n",
      "Collecting soxr>=0.3.2\n",
      "  Downloading soxr-0.3.5-cp310-cp310-win_amd64.whl (184 kB)\n",
      "     -------------------------------------- 184.0/184.0 kB 5.6 MB/s eta 0:00:00\n",
      "Requirement already satisfied: scipy>=1.2.0 in c:\\users\\zbook create g7\\anaconda3\\lib\\site-packages (from librosa) (1.10.0)\n",
      "Requirement already satisfied: numpy!=1.22.0,!=1.22.1,!=1.22.2,>=1.20.3 in c:\\users\\zbook create g7\\anaconda3\\lib\\site-packages (from librosa) (1.23.5)\n",
      "Requirement already satisfied: numba>=0.51.0 in c:\\users\\zbook create g7\\anaconda3\\lib\\site-packages (from librosa) (0.56.4)\n",
      "Collecting audioread>=2.1.9\n",
      "  Downloading audioread-3.0.0.tar.gz (377 kB)\n",
      "     -------------------------------------- 377.0/377.0 kB 7.8 MB/s eta 0:00:00\n",
      "  Preparing metadata (setup.py): started\n",
      "  Preparing metadata (setup.py): finished with status 'done'\n",
      "Requirement already satisfied: pooch<1.7,>=1.0 in c:\\users\\zbook create g7\\anaconda3\\lib\\site-packages (from librosa) (1.4.0)\n",
      "Requirement already satisfied: msgpack>=1.0 in c:\\users\\zbook create g7\\anaconda3\\lib\\site-packages (from librosa) (1.0.3)\n",
      "Requirement already satisfied: decorator>=4.3.0 in c:\\users\\zbook create g7\\anaconda3\\lib\\site-packages (from librosa) (5.1.1)\n",
      "Requirement already satisfied: typing-extensions>=4.1.1 in c:\\users\\zbook create g7\\anaconda3\\lib\\site-packages (from librosa) (4.4.0)\n",
      "Requirement already satisfied: soundfile>=0.12.1 in c:\\users\\zbook create g7\\anaconda3\\lib\\site-packages (from librosa) (0.12.1)\n",
      "Requirement already satisfied: scikit-learn>=0.20.0 in c:\\users\\zbook create g7\\anaconda3\\lib\\site-packages (from librosa) (1.2.1)\n",
      "Collecting lazy-loader>=0.1\n",
      "  Downloading lazy_loader-0.2-py3-none-any.whl (8.6 kB)\n",
      "Requirement already satisfied: setuptools in c:\\users\\zbook create g7\\anaconda3\\lib\\site-packages (from numba>=0.51.0->librosa) (65.6.3)\n",
      "Requirement already satisfied: llvmlite<0.40,>=0.39.0dev0 in c:\\users\\zbook create g7\\anaconda3\\lib\\site-packages (from numba>=0.51.0->librosa) (0.39.1)\n",
      "Requirement already satisfied: appdirs in c:\\users\\zbook create g7\\anaconda3\\lib\\site-packages (from pooch<1.7,>=1.0->librosa) (1.4.4)\n",
      "Requirement already satisfied: requests in c:\\users\\zbook create g7\\anaconda3\\lib\\site-packages (from pooch<1.7,>=1.0->librosa) (2.28.1)\n",
      "Requirement already satisfied: packaging in c:\\users\\zbook create g7\\anaconda3\\lib\\site-packages (from pooch<1.7,>=1.0->librosa) (22.0)\n",
      "Requirement already satisfied: threadpoolctl>=2.0.0 in c:\\users\\zbook create g7\\anaconda3\\lib\\site-packages (from scikit-learn>=0.20.0->librosa) (2.2.0)\n",
      "Requirement already satisfied: cffi>=1.0 in c:\\users\\zbook create g7\\anaconda3\\lib\\site-packages (from soundfile>=0.12.1->librosa) (1.15.1)\n",
      "Requirement already satisfied: pycparser in c:\\users\\zbook create g7\\anaconda3\\lib\\site-packages (from cffi>=1.0->soundfile>=0.12.1->librosa) (2.21)\n",
      "Requirement already satisfied: idna<4,>=2.5 in c:\\users\\zbook create g7\\anaconda3\\lib\\site-packages (from requests->pooch<1.7,>=1.0->librosa) (3.4)\n",
      "Requirement already satisfied: certifi>=2017.4.17 in c:\\users\\zbook create g7\\anaconda3\\lib\\site-packages (from requests->pooch<1.7,>=1.0->librosa) (2022.12.7)\n",
      "Requirement already satisfied: urllib3<1.27,>=1.21.1 in c:\\users\\zbook create g7\\anaconda3\\lib\\site-packages (from requests->pooch<1.7,>=1.0->librosa) (1.26.14)\n",
      "Requirement already satisfied: charset-normalizer<3,>=2 in c:\\users\\zbook create g7\\anaconda3\\lib\\site-packages (from requests->pooch<1.7,>=1.0->librosa) (2.0.4)\n",
      "Building wheels for collected packages: audioread\n",
      "  Building wheel for audioread (setup.py): started\n",
      "  Building wheel for audioread (setup.py): finished with status 'done'\n",
      "  Created wheel for audioread: filename=audioread-3.0.0-py3-none-any.whl size=23736 sha256=b4ec7ae0d9b7eff0518f53ac3df3c6ce290e9f95fad5c427a499ef9e215252de\n",
      "  Stored in directory: c:\\users\\zbook create g7\\appdata\\local\\pip\\cache\\wheels\\3d\\e0\\4b\\51b8aa4a0e2b6361c14943f7a7c2c7adb7b9cd419e0a1b720d\n",
      "Successfully built audioread\n",
      "Installing collected packages: soxr, lazy-loader, audioread, librosa\n",
      "Successfully installed audioread-3.0.0 lazy-loader-0.2 librosa-0.10.0.post2 soxr-0.3.5\n"
     ]
    }
   ],
   "source": [
    "!pip install soundfile\n",
    "!pip install numpy\n",
    "!pip install scipy\n",
    "!pip install librosa"
   ]
  },
  {
   "cell_type": "code",
   "execution_count": 2,
   "id": "6ea6304d",
   "metadata": {},
   "outputs": [],
   "source": [
    "import soundfile as sf\n",
    "import numpy as np\n",
    "from scipy import signal\n",
    "import librosa.feature as feat"
   ]
  },
  {
   "cell_type": "code",
   "execution_count": 3,
   "id": "a3a0cc7b",
   "metadata": {},
   "outputs": [],
   "source": [
    "filename = \"audio_example.wav\"\n",
    "sig, sr = sf.read(filename)\n",
    "\n",
    "sos = signal.butter(6, [5000, 100000], 'bandpass', fs=sr, output='sos')\n",
    "sig = signal.sosfiltfilt(sos, sig)\n",
    "rms = feat.rms(y=sig) \n",
    "sc = feat.spectral_centroid(y=sig, sr=sr)\n",
    "sb = feat.spectral_bandwidth(y=sig,sr=sr)\n",
    "sf = feat.spectral_flatness(y=sig)\n",
    "\n",
    "features = [np.mean(rms), np.std(rms), np.min(rms), np.max(rms),\\\n",
    "            np.mean(sc), np.std(sc), np.min(sc), np.max(sc),\\\n",
    "            np.mean(sb), np.std(sb), np.min(sb), np.max(sb),\\\n",
    "            np.mean(sf), np.std(sf), np.min(sf), np.max(sf)]"
   ]
  },
  {
   "cell_type": "code",
   "execution_count": 4,
   "id": "5b690e52",
   "metadata": {},
   "outputs": [
    {
     "name": "stdout",
     "output_type": "stream",
     "text": [
      "[0.0003152083, 0.0001328725, 0.00019920757, 0.00091432757, 33408.69577452631, 3477.503461640198, 28744.58129758058, 50177.904589629616, 24978.507781893004, 830.7931018930715, 22465.55392384818, 28356.17197712267, 0.01887323985271292, 0.004171089827426734, 0.009318943636390277, 0.03637839797814916]\n"
     ]
    }
   ],
   "source": [
    "print(features)"
   ]
  },
  {
   "cell_type": "code",
   "execution_count": null,
   "id": "040d9432",
   "metadata": {},
   "outputs": [],
   "source": []
  }
 ],
 "metadata": {
  "kernelspec": {
   "display_name": "Python 3 (ipykernel)",
   "language": "python",
   "name": "python3"
  },
  "language_info": {
   "codemirror_mode": {
    "name": "ipython",
    "version": 3
   },
   "file_extension": ".py",
   "mimetype": "text/x-python",
   "name": "python",
   "nbconvert_exporter": "python",
   "pygments_lexer": "ipython3",
   "version": "3.10.9"
  }
 },
 "nbformat": 4,
 "nbformat_minor": 5
}
